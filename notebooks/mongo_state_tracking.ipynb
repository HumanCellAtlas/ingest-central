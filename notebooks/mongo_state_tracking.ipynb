{
  "nbformat": 4,
  "nbformat_minor": 0,
  "metadata": {
    "colab": {
      "name": "Welcome To Colaboratory",
      "version": "0.3.2",
      "provenance": [],
      "collapsed_sections": [],
      "toc_visible": true
    },
    "kernelspec": {
      "display_name": "Python 3",
      "name": "python3"
    }
  },
  "cells": [
    {
      "cell_type": "markdown",
      "metadata": {
        "id": "mzS9y9EntKrF",
        "colab_type": "text"
      },
      "source": [
        "<h1>scale tests</h1>\n",
        "  \n",
        "  Tests to plot performance of ingest state\n"
      ]
    },
    {
      "cell_type": "markdown",
      "metadata": {
        "id": "KCk7rerYwq6_",
        "colab_type": "text"
      },
      "source": [
        "<h2>prerequisites</h2>\n",
        "\n",
        "Ensure that indexes exist on the validationState field in all MetadataDocument repositories"
      ]
    },
    {
      "cell_type": "markdown",
      "metadata": {
        "id": "Tzw3JyuQ76as",
        "colab_type": "text"
      },
      "source": [
        "<h2>background</h2>\n",
        "\n",
        "Investigating an approach to determining submission state -- querying mongo for the states of metadata in a submission in order to determine the state of the envelope overall"
      ]
    },
    {
      "cell_type": "markdown",
      "metadata": {
        "id": "wQgHad9t8au2",
        "colab_type": "text"
      },
      "source": [
        "<h2>approach</h2>\n",
        "\n",
        "When an envelope is in the different validation states, we determine the state with the following function:\n",
        "\n",
        "```\n",
        "if any contained document is Invalid:\n",
        "  state = Invalid\n",
        "else if any contained document is Validating:\n",
        "  state = Validating\n",
        "else if any contained document is Draft:\n",
        "  state = Draft\n",
        "else:\n",
        "  state = Valid\n",
        "```\n",
        "\n",
        "The state tracker currently maintains an in-memory hash-map of all MetadataDocuments in a submission in order to determine the result of the function.\n",
        "\n",
        "In order to perform this function, in particular determining <font color='blue'>`any contained document is (some-state)`</font>, we'll query the mongo database. The queries will have to be run on each MetadataDocument repository(e.g `/biomaterals`, `/processes`, `/files`, ...)"
      ]
    },
    {
      "cell_type": "markdown",
      "metadata": {
        "id": "vXnMhVjJ_Ir9",
        "colab_type": "text"
      },
      "source": [
        "Defining submission to state check. We can repeatedly check the state of this submission to simulate checks on lots of submissions."
      ]
    },
    {
      "cell_type": "code",
      "metadata": {
        "id": "GH0fRXLztedu",
        "colab_type": "code",
        "colab": {}
      },
      "source": [
        "ingest_api_url = \"https://api.ingest.dev.data.humancellatlas.org\"\n",
        "submission_id = \"5d562ae41c78450008961754\"\n",
        "submission_url = f'{ingest_api_url}/submissionEnvelopes/{submission_id}'\n"
      ],
      "execution_count": 0,
      "outputs": []
    },
    {
      "cell_type": "markdown",
      "metadata": {
        "id": "vyFGOgboCv4p",
        "colab_type": "text"
      },
      "source": [
        "Defining the validation state check function, `StateChecker.val_state_for_submission()`. This functions call out to the dev ingest API's search methods."
      ]
    },
    {
      "cell_type": "code",
      "metadata": {
        "id": "S6h3rLDWC6_M",
        "colab_type": "code",
        "colab": {}
      },
      "source": [
        "import requests\n",
        "from multiprocessing.dummy import Pool\n",
        "from functools import reduce\n",
        "\n",
        "entity_types = [\"biomaterials\", \"projects\", \"processes\", \"files\", \"protocols\"]\n",
        "\n",
        "class StateChecker:\n",
        "  \n",
        "  @staticmethod\n",
        "  def val_state_for_submission(submission_url: str) -> str:\n",
        "      if is_invalid(submission_url):\n",
        "          return \"INVALID\"\n",
        "      elif is_validating(submission_url):\n",
        "          return \"VALIDATING\"\n",
        "      elif is_draft(submission_url):\n",
        "          return \"DRAFT\"\n",
        "      else:\n",
        "          return \"VALID\"\n",
        "       \n",
        "  @staticmethod\n",
        "  def is_invalid(submission_url: str) -> bool:\n",
        "      return StateChecker.val_check(StateChecker._is_invalid, submission_url)\n",
        "\n",
        "  @staticmethod\n",
        "  def is_validating(submission_url: str) -> bool:\n",
        "      return StateChecker.val_check(StateChecker._is_validating, submission_url)\n",
        "\n",
        "  @staticmethod\n",
        "  def is_draft(submission_url: str) -> bool:\n",
        "      return StateChecker.val_check(StateChecker._is_draft, submission_url)\n",
        "\n",
        "  @staticmethod  \n",
        "  def val_check(val_check_fn, submission_url: str) -> bool:\n",
        "      val_check_fns = list(map(lambda entity_type: StateChecker.curry_val_check(val_check_fn, submission_url, entity_type), entity_types))\n",
        "      return reduce(\n",
        "          lambda a, b: lambda: a() or b(),\n",
        "          val_check_fns\n",
        "      )()\n",
        "\n",
        "  @staticmethod\n",
        "  def _is_invalid(submission_url: str, entity_type: str) -> bool:\n",
        "      return StateChecker._has_documents_in_state(submission_url, entity_type, \"INVALID\")\n",
        "\n",
        "  @staticmethod\n",
        "  def _is_validating(submission_url: str, entity_type: str) -> bool:\n",
        "      return StateChecker._has_documents_in_state(submission_url, entity_type, \"VALIDATING\")\n",
        "\n",
        "  @staticmethod\n",
        "  def _is_draft(submission_url: str, entity_type: str) -> bool:\n",
        "         return StateChecker._has_documents_in_state(submission_url, entity_type, \"DRAFT\")\n",
        "    \n",
        "  @staticmethod\n",
        "  def curry_val_check(val_fn, submission_url, entity_type):\n",
        "      return lambda: val_fn(submission_url, entity_type)\n",
        "\n",
        "  @staticmethod\n",
        "  def _has_documents_in_state(submission_url: str, entity_type: str, validation_state: str) -> bool:\n",
        "      st_url = f'{ingest_api_url}/{entity_type}/search/findBySubmissionEnvelopesContainingAndValidationState?envelopeUri={submission_url}&state={validation_state}'\n",
        "      sr = requests.get(st_url)\n",
        "      return sr.json()[\"page\"][\"totalElements\"] > 0"
      ],
      "execution_count": 0,
      "outputs": []
    },
    {
      "cell_type": "markdown",
      "metadata": {
        "id": "MUE0_8T_FrKA",
        "colab_type": "text"
      },
      "source": [
        "Running and timing the state check for 1 submission"
      ]
    },
    {
      "cell_type": "code",
      "metadata": {
        "id": "JMEu2WNvF3ME",
        "colab_type": "code",
        "colab": {
          "base_uri": "https://localhost:8080/",
          "height": 34
        },
        "outputId": "6a0b6636-4f34-48c4-cd37-b008cdd0b41f"
      },
      "source": [
        "import time\n",
        "\n",
        "start = time.time()\n",
        "state = StateChecker.val_state_for_submission(submission_url)\n",
        "duration = time.time() - start\n",
        "print(f'Time: {str(duration)} seconds')"
      ],
      "execution_count": 58,
      "outputs": [
        {
          "output_type": "stream",
          "text": [
            "Time: 4.231719255447388 seconds\n"
          ],
          "name": "stdout"
        }
      ]
    },
    {
      "cell_type": "markdown",
      "metadata": {
        "id": "1kkZfa5gGak3",
        "colab_type": "text"
      },
      "source": [
        "Timing and plotting many parallel state checks. We don't have exact numbers for the amount of parallel submissions we expect but given that analysis can submit up to 100 simultaneously, I set this to 50. Note this times 1 parallel submissions, then 2 parallel, and so on up to 50. \n",
        "\n"
      ]
    },
    {
      "cell_type": "code",
      "metadata": {
        "id": "1Dma7WAhuSUD",
        "colab_type": "code",
        "colab": {}
      },
      "source": [
        "import time\n",
        "from multiprocessing.dummy import Pool\n",
        "\n",
        "submission_states_parallel_fn = lambda num: Pool(num).map(StateChecker.val_state_for_submission, [submission_url] * num)\n",
        "submission_states_seq_fn = lambda num: [StateChecker.val_state_for_submission(url) for url in [submission_url] * num]\n",
        "\n",
        "def time_parallel(num_parallel) -> float:\n",
        "  start = time.time()\n",
        "  submission_states_parallel_fn(num_parallel)\n",
        "  return time.time() - start\n",
        "\n",
        "# get times for 1 to 50 parallel state checks, sampling at 1,10,20,30,40,50\n",
        "parallel_subs_range = list(range(0,51,10))\n",
        "parallel_subs_range[0] = 1\n",
        "times = [time_parallel(i) for i in parallel_subs_range]\n"
      ],
      "execution_count": 0,
      "outputs": []
    },
    {
      "cell_type": "code",
      "metadata": {
        "id": "vkil_Oq3x0Wv",
        "colab_type": "code",
        "colab": {
          "base_uri": "https://localhost:8080/",
          "height": 295
        },
        "outputId": "bffade78-de3c-4f57-bf68-da4307087149"
      },
      "source": [
        "import matplotlib.pyplot as plt\n",
        "\n",
        "plt.plot(parallel_subs_range, times)\n",
        "\n",
        "plt.title('Time to perform parallel state checks under load')\n",
        "plt.xlabel('# parallel state checks')\n",
        "plt.ylabel('state check time(sec) per submission')\n",
        "\n",
        "plt.show()"
      ],
      "execution_count": 63,
      "outputs": [
        {
          "output_type": "display_data",
          "data": {
            "image/png": "[encoded data removed]",
            "text/plain": [
              "<Figure size 432x288 with 1 Axes>"
            ]
          },
          "metadata": {
            "tags": []
          }
        }
      ]
    }
  ]
}